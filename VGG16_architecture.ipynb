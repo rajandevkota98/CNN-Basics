{
  "nbformat": 4,
  "nbformat_minor": 0,
  "metadata": {
    "colab": {
      "provenance": []
    },
    "kernelspec": {
      "name": "python3",
      "display_name": "Python 3"
    },
    "language_info": {
      "name": "python"
    },
    "accelerator": "GPU",
    "gpuClass": "standard"
  },
  "cells": [
    {
      "cell_type": "code",
      "execution_count": 40,
      "metadata": {
        "id": "h0IyqmG8hyOU"
      },
      "outputs": [],
      "source": [
        "import keras"
      ]
    },
    {
      "cell_type": "code",
      "source": [
        "from tensorflow import keras\n",
        "import keras.layers as layers\n",
        "from keras.models import Sequential\n",
        "from keras.layers import  Dense, Dropout,Flatten\n",
        "from keras.layers import Conv2D, MaxPooling2D\n",
        "import tensorflow as tf\n",
        "\n"
      ],
      "metadata": {
        "id": "vIW_S7pwh9aD"
      },
      "execution_count": 41,
      "outputs": []
    },
    {
      "cell_type": "code",
      "source": [
        "model = Sequential()"
      ],
      "metadata": {
        "id": "j1i7AN7VirPe"
      },
      "execution_count": 42,
      "outputs": []
    },
    {
      "cell_type": "code",
      "source": [
        "model.add(Conv2D(filters = 64,kernel_size= (3,3), padding = 'same' ,activation = 'relu' , input_shape = (224,224,3)))\n",
        "model.add(Conv2D(filters = 64,kernel_size= (3,3), padding = 'same' ,activation = 'relu'))\n",
        "\n",
        "#adding maxpooling\n",
        "model.add(MaxPooling2D(pool_size = (2,2)))\n",
        "model.add(Conv2D(filters = 128,kernel_size= (3,3), padding = 'same' ,activation = 'relu'))\n",
        "model.add(Conv2D(filters = 128,kernel_size= (3,3), padding = 'same' ,activation = 'relu'))\n",
        "model.add(Conv2D(filters = 128,kernel_size= (3,3), padding = 'same' ,activation = 'relu'))\n",
        "\n",
        "\n",
        "#maxpooling\n",
        "model.add(MaxPooling2D(pool_size = (2,2)))\n",
        "model.add(Conv2D(filters = 256,kernel_size= (3,3), padding = 'same' ,activation = 'relu'))\n",
        "model.add(Conv2D(filters = 256,kernel_size= (3,3), padding = 'same' ,activation = 'relu'))\n",
        "model.add(Conv2D(filters = 256,kernel_size= (3,3), padding = 'same' ,activation = 'relu'))\n",
        "\n",
        "\n",
        "#maxpooling\n",
        "model.add(MaxPooling2D(pool_size = (2,2)))\n",
        "model.add(Conv2D(filters = 512,kernel_size= (3,3), padding = 'same' ,activation = 'relu'))\n",
        "model.add(Conv2D(filters = 512,kernel_size= (3,3), padding = 'same' ,activation = 'relu'))\n",
        "model.add(Conv2D(filters = 512,kernel_size= (3,3), padding = 'same' ,activation = 'relu'))\n",
        "\n",
        "\n",
        "#maxpooling\n",
        "model.add(MaxPooling2D(pool_size = (2,2)))\n",
        "model.add(Conv2D(filters = 512, kernel_size = (3,3), padding = 'same', activation = 'relu'))\n",
        "model.add(Conv2D(filters = 512, kernel_size = (3,3), padding = 'same', activation = 'relu'))\n",
        "model.add(Conv2D(filters = 512, kernel_size = (3,3), padding = 'same', activation = 'relu'))\n",
        "\n",
        "\n",
        "##maxppooling\n",
        "model.add(MaxPooling2D(pool_size = (2,2)))\n",
        "\n",
        "\n",
        "model.add(Flatten())\n",
        "\n",
        "\n",
        "# ##fully connected layer + Relu\n",
        "model.add(Dense(units = 4096,activation = 'relu'))\n",
        "model.add(Dense(units = 4096,activation = 'relu'))\n",
        "model.add(Dense(units = 1000,activation = 'softmax'))\n",
        "\n",
        "\n",
        "\n",
        "\n"
      ],
      "metadata": {
        "id": "-vm2NO9ljxtB"
      },
      "execution_count": 43,
      "outputs": []
    },
    {
      "cell_type": "code",
      "source": [
        "model.summary()"
      ],
      "metadata": {
        "colab": {
          "base_uri": "https://localhost:8080/"
        },
        "id": "1tAxRJ-vkoDG",
        "outputId": "53330602-d5fe-4e11-d350-d3cb08ab82a9"
      },
      "execution_count": 44,
      "outputs": [
        {
          "output_type": "stream",
          "name": "stdout",
          "text": [
            "Model: \"sequential_7\"\n",
            "_________________________________________________________________\n",
            " Layer (type)                Output Shape              Param #   \n",
            "=================================================================\n",
            " conv2d_117 (Conv2D)         (None, 224, 224, 64)      1792      \n",
            "                                                                 \n",
            " conv2d_118 (Conv2D)         (None, 224, 224, 64)      36928     \n",
            "                                                                 \n",
            " max_pooling2d_42 (MaxPoolin  (None, 112, 112, 64)     0         \n",
            " g2D)                                                            \n",
            "                                                                 \n",
            " conv2d_119 (Conv2D)         (None, 112, 112, 128)     73856     \n",
            "                                                                 \n",
            " conv2d_120 (Conv2D)         (None, 112, 112, 128)     147584    \n",
            "                                                                 \n",
            " conv2d_121 (Conv2D)         (None, 112, 112, 128)     147584    \n",
            "                                                                 \n",
            " max_pooling2d_43 (MaxPoolin  (None, 56, 56, 128)      0         \n",
            " g2D)                                                            \n",
            "                                                                 \n",
            " conv2d_122 (Conv2D)         (None, 56, 56, 256)       295168    \n",
            "                                                                 \n",
            " conv2d_123 (Conv2D)         (None, 56, 56, 256)       590080    \n",
            "                                                                 \n",
            " conv2d_124 (Conv2D)         (None, 56, 56, 256)       590080    \n",
            "                                                                 \n",
            " max_pooling2d_44 (MaxPoolin  (None, 28, 28, 256)      0         \n",
            " g2D)                                                            \n",
            "                                                                 \n",
            " conv2d_125 (Conv2D)         (None, 28, 28, 512)       1180160   \n",
            "                                                                 \n",
            " conv2d_126 (Conv2D)         (None, 28, 28, 512)       2359808   \n",
            "                                                                 \n",
            " conv2d_127 (Conv2D)         (None, 28, 28, 512)       2359808   \n",
            "                                                                 \n",
            " max_pooling2d_45 (MaxPoolin  (None, 14, 14, 512)      0         \n",
            " g2D)                                                            \n",
            "                                                                 \n",
            " conv2d_128 (Conv2D)         (None, 14, 14, 512)       2359808   \n",
            "                                                                 \n",
            " conv2d_129 (Conv2D)         (None, 14, 14, 512)       2359808   \n",
            "                                                                 \n",
            " conv2d_130 (Conv2D)         (None, 14, 14, 512)       2359808   \n",
            "                                                                 \n",
            " max_pooling2d_46 (MaxPoolin  (None, 7, 7, 512)        0         \n",
            " g2D)                                                            \n",
            "                                                                 \n",
            " flatten_4 (Flatten)         (None, 25088)             0         \n",
            "                                                                 \n",
            " dense_6 (Dense)             (None, 4096)              102764544 \n",
            "                                                                 \n",
            " dense_7 (Dense)             (None, 4096)              16781312  \n",
            "                                                                 \n",
            " dense_8 (Dense)             (None, 1000)              4097000   \n",
            "                                                                 \n",
            "=================================================================\n",
            "Total params: 138,505,128\n",
            "Trainable params: 138,505,128\n",
            "Non-trainable params: 0\n",
            "_________________________________________________________________\n"
          ]
        }
      ]
    },
    {
      "cell_type": "code",
      "source": [],
      "metadata": {
        "id": "J7SbOgxSkvi6"
      },
      "execution_count": 44,
      "outputs": []
    }
  ]
}